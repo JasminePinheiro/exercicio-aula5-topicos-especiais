{
 "cells": [
  {
   "cell_type": "markdown",
   "id": "ea213326-784c-44a5-bcbf-b58ac9689a58",
   "metadata": {},
   "source": [
    "Jasmine Pinheiro de Souza - Gu302704x\n",
    "\n",
    "# Exercício - Aula 5\n",
    "Separe a tabela em duas tabelas, da seguinte forma:\n",
    "\n",
    "Utilizando as duas tabelas criadas, realize as seguintes operações utilizando a chave \n",
    "- Junção interna\n",
    "- Junção externa a esquerda\n",
    "- Junção exerna à direita\n",
    "- Junção externa completa\n",
    "- Produto cartesiano "
   ]
  },
  {
   "cell_type": "code",
   "execution_count": 4,
   "id": "ae3d8034-6de2-4ada-917d-21cafefbe9fe",
   "metadata": {},
   "outputs": [],
   "source": [
    "import pandas as pd"
   ]
  },
  {
   "cell_type": "code",
   "execution_count": 1,
   "id": "c212662c-14f3-43fe-ad6b-216783c9b973",
   "metadata": {},
   "outputs": [],
   "source": [
    "import numpy as np"
   ]
  },
  {
   "cell_type": "code",
   "execution_count": 2,
   "id": "5b020e6c-dfc9-4bd0-bea1-aeebfec0ae75",
   "metadata": {},
   "outputs": [],
   "source": [
    "dict1 = {\n",
    "    'nome': ['Anderson', 'Beatriz', 'Bruno', 'Cristiano', 'Daniel', 'Douglas', 'Elma', 'Fabricio'],\n",
    "    'chave': ['C0', 'C1', 'C2', 'C3', 'C4', 'C5', 'C6', 'C7'],\n",
    "    'chave1': ['C0', 'C1', 'C2', 'C3', 'C0', 'C1', 'C2', 'C3'],\n",
    "    'idade': [24, 36, 45, 56, 29, 20, 38, 47],\n",
    "    'cidade': ['Santos', 'Atibaia', 'Guarulhos', 'Atibaia', 'Santos', 'Guarulhos', 'Guarulhos', 'Atibaia'],\n",
    "    'Registro': [32123, 45828, 34985, 13457, 98439, 99348, 45019, 24894],\n",
    "    'Departamento': ['RH', 'PD', 'RH', 'ADM', 'ADM', 'RH', 'ADM', 'PD'],\n",
    "    'Formação': ['Graduação', 'Mestrado', 'Graduação', 'Técnico', 'Graduação', 'Técnico', 'Graduação', 'Graduação']\n",
    "}\n",
    "\n",
    "\n",
    "dict2 = {\n",
    "    'nome': ['Gabriel', 'Janaina', 'Luiz', 'Marcos', 'Nadja', 'Oswaldo', 'Patricia', 'Ricardo'],\n",
    "    'chave': ['C0', 'C1', 'C2', 'C3', 'C4', 'C5', 'C6', 'C7'],\n",
    "    'chave1': ['C0', 'C0', 'C0', 'C0', 'C1', 'C1', 'C1', 'C1'],\n",
    "    'idade': [23, 56, 32, 22, 36, 68, 22, 38],\n",
    "    'cidade': ['Guarulhos', 'Guarulhos', 'Atibaia', 'Guarulhos', 'Santos', 'Guarulhos', 'Guarulhos', 'Santos'],\n",
    "    'Registro': [32948, 13480, 22884, 56821, 65938, 12956, 75439, 45392],\n",
    "    'Departamento': ['PD', 'ADM', 'PD', 'ADM', 'PD', 'RH', 'ADM', 'PD'],\n",
    "    'Formação': ['Técnico', 'Graduação', 'Graduação', 'Graduação', 'Mestrado', 'Graduação', 'Mestrado', 'Graduação']\n",
    "}\n",
    "\n"
   ]
  },
  {
   "cell_type": "code",
   "execution_count": 5,
   "id": "d08debcc-aba2-41f5-a2d0-12fdaf4b894e",
   "metadata": {},
   "outputs": [],
   "source": [
    "df1 = pd.DataFrame(dict1)"
   ]
  },
  {
   "cell_type": "code",
   "execution_count": 6,
   "id": "0b344169-f258-4eec-84bd-59cfe3978cbe",
   "metadata": {},
   "outputs": [],
   "source": [
    "df2 = pd.DataFrame(dict2)"
   ]
  },
  {
   "cell_type": "code",
   "execution_count": 7,
   "id": "11f2c286-0c27-4acd-95bc-ae15a202cfac",
   "metadata": {},
   "outputs": [
    {
     "name": "stdout",
     "output_type": "stream",
     "text": [
      "        nome chave chave1  idade     cidade  Registro Departamento   Formação\n",
      "0   Anderson    C0     C0     24     Santos     32123           RH  Graduação\n",
      "1    Beatriz    C1     C1     36    Atibaia     45828           PD   Mestrado\n",
      "2      Bruno    C2     C2     45  Guarulhos     34985           RH  Graduação\n",
      "3  Cristiano    C3     C3     56    Atibaia     13457          ADM    Técnico\n",
      "4     Daniel    C4     C0     29     Santos     98439          ADM  Graduação\n",
      "5    Douglas    C5     C1     20  Guarulhos     99348           RH    Técnico\n",
      "6       Elma    C6     C2     38  Guarulhos     45019          ADM  Graduação\n",
      "7   Fabricio    C7     C3     47    Atibaia     24894           PD  Graduação\n",
      "\n",
      "\n",
      "       nome chave chave1  idade     cidade  Registro Departamento   Formação\n",
      "0   Gabriel    C0     C0     23  Guarulhos     32948           PD    Técnico\n",
      "1   Janaina    C1     C0     56  Guarulhos     13480          ADM  Graduação\n",
      "2      Luiz    C2     C0     32    Atibaia     22884           PD  Graduação\n",
      "3    Marcos    C3     C0     22  Guarulhos     56821          ADM  Graduação\n",
      "4     Nadja    C4     C1     36     Santos     65938           PD   Mestrado\n",
      "5   Oswaldo    C5     C1     68  Guarulhos     12956           RH  Graduação\n",
      "6  Patricia    C6     C1     22  Guarulhos     75439          ADM   Mestrado\n",
      "7   Ricardo    C7     C1     38     Santos     45392           PD  Graduação\n"
     ]
    }
   ],
   "source": [
    "print(df1)\n",
    "print(\"\\n\")\n",
    "print(df2)"
   ]
  },
  {
   "cell_type": "code",
   "execution_count": 9,
   "id": "e5f91753-be74-41e5-a2c0-fb3c850e0ac3",
   "metadata": {},
   "outputs": [
    {
     "name": "stdout",
     "output_type": "stream",
     "text": [
      "Junção interna:\n",
      "   nome_dict1 chave chave1  idade_dict1 cidade_dict1  Registro_dict1  \\\n",
      "0   Anderson    C0     C0           24       Santos           32123   \n",
      "1    Douglas    C5     C1           20    Guarulhos           99348   \n",
      "\n",
      "  Departamento_dict1 Formação_dict1 nome_dict2  idade_dict2 cidade_dict2  \\\n",
      "0                 RH      Graduação    Gabriel           23    Guarulhos   \n",
      "1                 RH        Técnico    Oswaldo           68    Guarulhos   \n",
      "\n",
      "   Registro_dict2 Departamento_dict2 Formação_dict2  \n",
      "0           32948                 PD        Técnico  \n",
      "1           12956                 RH      Graduação  \n"
     ]
    }
   ],
   "source": [
    "# Junção interna\n",
    "inner_join = pd.merge(df1, df2, on=['chave', 'chave1'], how='inner', suffixes=('_dict1', '_dict2'))\n",
    "print(\"Junção interna:\\n\", inner_join)"
   ]
  },
  {
   "cell_type": "code",
   "execution_count": 12,
   "id": "192ff810-9025-4557-abc6-8eb5f57043f3",
   "metadata": {},
   "outputs": [
    {
     "name": "stdout",
     "output_type": "stream",
     "text": [
      "\n",
      "Junção externa à esquerda:\n",
      "   nome_dict1 chave chave1  idade_dict1 cidade_dict1  Registro_dict1  \\\n",
      "0   Anderson    C0     C0           24       Santos           32123   \n",
      "1    Beatriz    C1     C1           36      Atibaia           45828   \n",
      "2      Bruno    C2     C2           45    Guarulhos           34985   \n",
      "3  Cristiano    C3     C3           56      Atibaia           13457   \n",
      "4     Daniel    C4     C0           29       Santos           98439   \n",
      "5    Douglas    C5     C1           20    Guarulhos           99348   \n",
      "6       Elma    C6     C2           38    Guarulhos           45019   \n",
      "7   Fabricio    C7     C3           47      Atibaia           24894   \n",
      "\n",
      "  Departamento_dict1 Formação_dict1 nome_dict2  idade_dict2 cidade_dict2  \\\n",
      "0                 RH      Graduação    Gabriel         23.0    Guarulhos   \n",
      "1                 PD       Mestrado        NaN          NaN          NaN   \n",
      "2                 RH      Graduação        NaN          NaN          NaN   \n",
      "3                ADM        Técnico        NaN          NaN          NaN   \n",
      "4                ADM      Graduação        NaN          NaN          NaN   \n",
      "5                 RH        Técnico    Oswaldo         68.0    Guarulhos   \n",
      "6                ADM      Graduação        NaN          NaN          NaN   \n",
      "7                 PD      Graduação        NaN          NaN          NaN   \n",
      "\n",
      "   Registro_dict2 Departamento_dict2 Formação_dict2  \n",
      "0         32948.0                 PD        Técnico  \n",
      "1             NaN                NaN            NaN  \n",
      "2             NaN                NaN            NaN  \n",
      "3             NaN                NaN            NaN  \n",
      "4             NaN                NaN            NaN  \n",
      "5         12956.0                 RH      Graduação  \n",
      "6             NaN                NaN            NaN  \n",
      "7             NaN                NaN            NaN  \n"
     ]
    }
   ],
   "source": [
    "# Junção externa à esquerda\n",
    "left_join = pd.merge(df1, df2, on=['chave', 'chave1'], how='left', suffixes=('_dict1', '_dict2'))\n",
    "print(\"\\nJunção externa à esquerda:\\n\", left_join)"
   ]
  },
  {
   "cell_type": "code",
   "execution_count": 14,
   "id": "713a2ea4-5880-4ea2-a26b-e30ffba0d480",
   "metadata": {},
   "outputs": [
    {
     "name": "stdout",
     "output_type": "stream",
     "text": [
      "\n",
      "Junção externa à direita:\n",
      "   nome_dict1 chave chave1  idade_dict1 cidade_dict1  Registro_dict1  \\\n",
      "0   Anderson    C0     C0         24.0       Santos         32123.0   \n",
      "1        NaN    C1     C0          NaN          NaN             NaN   \n",
      "2        NaN    C2     C0          NaN          NaN             NaN   \n",
      "3        NaN    C3     C0          NaN          NaN             NaN   \n",
      "4        NaN    C4     C1          NaN          NaN             NaN   \n",
      "5    Douglas    C5     C1         20.0    Guarulhos         99348.0   \n",
      "6        NaN    C6     C1          NaN          NaN             NaN   \n",
      "7        NaN    C7     C1          NaN          NaN             NaN   \n",
      "\n",
      "  Departamento_dict1 Formação_dict1 nome_dict2  idade_dict2 cidade_dict2  \\\n",
      "0                 RH      Graduação    Gabriel           23    Guarulhos   \n",
      "1                NaN            NaN    Janaina           56    Guarulhos   \n",
      "2                NaN            NaN       Luiz           32      Atibaia   \n",
      "3                NaN            NaN     Marcos           22    Guarulhos   \n",
      "4                NaN            NaN      Nadja           36       Santos   \n",
      "5                 RH        Técnico    Oswaldo           68    Guarulhos   \n",
      "6                NaN            NaN   Patricia           22    Guarulhos   \n",
      "7                NaN            NaN    Ricardo           38       Santos   \n",
      "\n",
      "   Registro_dict2 Departamento_dict2 Formação_dict2  \n",
      "0           32948                 PD        Técnico  \n",
      "1           13480                ADM      Graduação  \n",
      "2           22884                 PD      Graduação  \n",
      "3           56821                ADM      Graduação  \n",
      "4           65938                 PD       Mestrado  \n",
      "5           12956                 RH      Graduação  \n",
      "6           75439                ADM       Mestrado  \n",
      "7           45392                 PD      Graduação  \n"
     ]
    }
   ],
   "source": [
    "# Junção externa à direita\n",
    "right_join = pd.merge(df1, df2, on=['chave', 'chave1'], how='right', suffixes=('_dict1', '_dict2'))\n",
    "print(\"\\nJunção externa à direita:\\n\", right_join)"
   ]
  },
  {
   "cell_type": "code",
   "execution_count": 15,
   "id": "d9e67d4d-6cb8-4e11-9e09-07b67d16d954",
   "metadata": {},
   "outputs": [
    {
     "name": "stdout",
     "output_type": "stream",
     "text": [
      "\n",
      "Junção externa completa:\n",
      "    nome_dict1 chave chave1  idade_dict1 cidade_dict1  Registro_dict1  \\\n",
      "0    Anderson    C0     C0         24.0       Santos         32123.0   \n",
      "1         NaN    C1     C0          NaN          NaN             NaN   \n",
      "2     Beatriz    C1     C1         36.0      Atibaia         45828.0   \n",
      "3         NaN    C2     C0          NaN          NaN             NaN   \n",
      "4       Bruno    C2     C2         45.0    Guarulhos         34985.0   \n",
      "5         NaN    C3     C0          NaN          NaN             NaN   \n",
      "6   Cristiano    C3     C3         56.0      Atibaia         13457.0   \n",
      "7      Daniel    C4     C0         29.0       Santos         98439.0   \n",
      "8         NaN    C4     C1          NaN          NaN             NaN   \n",
      "9     Douglas    C5     C1         20.0    Guarulhos         99348.0   \n",
      "10        NaN    C6     C1          NaN          NaN             NaN   \n",
      "11       Elma    C6     C2         38.0    Guarulhos         45019.0   \n",
      "12        NaN    C7     C1          NaN          NaN             NaN   \n",
      "13   Fabricio    C7     C3         47.0      Atibaia         24894.0   \n",
      "\n",
      "   Departamento_dict1 Formação_dict1 nome_dict2  idade_dict2 cidade_dict2  \\\n",
      "0                  RH      Graduação    Gabriel         23.0    Guarulhos   \n",
      "1                 NaN            NaN    Janaina         56.0    Guarulhos   \n",
      "2                  PD       Mestrado        NaN          NaN          NaN   \n",
      "3                 NaN            NaN       Luiz         32.0      Atibaia   \n",
      "4                  RH      Graduação        NaN          NaN          NaN   \n",
      "5                 NaN            NaN     Marcos         22.0    Guarulhos   \n",
      "6                 ADM        Técnico        NaN          NaN          NaN   \n",
      "7                 ADM      Graduação        NaN          NaN          NaN   \n",
      "8                 NaN            NaN      Nadja         36.0       Santos   \n",
      "9                  RH        Técnico    Oswaldo         68.0    Guarulhos   \n",
      "10                NaN            NaN   Patricia         22.0    Guarulhos   \n",
      "11                ADM      Graduação        NaN          NaN          NaN   \n",
      "12                NaN            NaN    Ricardo         38.0       Santos   \n",
      "13                 PD      Graduação        NaN          NaN          NaN   \n",
      "\n",
      "    Registro_dict2 Departamento_dict2 Formação_dict2  \n",
      "0          32948.0                 PD        Técnico  \n",
      "1          13480.0                ADM      Graduação  \n",
      "2              NaN                NaN            NaN  \n",
      "3          22884.0                 PD      Graduação  \n",
      "4              NaN                NaN            NaN  \n",
      "5          56821.0                ADM      Graduação  \n",
      "6              NaN                NaN            NaN  \n",
      "7              NaN                NaN            NaN  \n",
      "8          65938.0                 PD       Mestrado  \n",
      "9          12956.0                 RH      Graduação  \n",
      "10         75439.0                ADM       Mestrado  \n",
      "11             NaN                NaN            NaN  \n",
      "12         45392.0                 PD      Graduação  \n",
      "13             NaN                NaN            NaN  \n"
     ]
    }
   ],
   "source": [
    "# Junção externa completa\n",
    "outer_join =  pd.merge(df1, df2, on=['chave', 'chave1'], how='outer', suffixes=('_dict1', '_dict2'))\n",
    "print(\"\\nJunção externa completa:\\n\", outer_join)"
   ]
  },
  {
   "cell_type": "code",
   "execution_count": 16,
   "id": "db6ddfad-1711-4abc-b93a-2b36686b338e",
   "metadata": {},
   "outputs": [
    {
     "name": "stdout",
     "output_type": "stream",
     "text": [
      "\n",
      "Produto cartesiano:\n",
      "       nome_x chave_x chave1_x  idade_x cidade_x  Registro_x Departamento_x  \\\n",
      "0   Anderson      C0       C0       24   Santos       32123             RH   \n",
      "1   Anderson      C0       C0       24   Santos       32123             RH   \n",
      "2   Anderson      C0       C0       24   Santos       32123             RH   \n",
      "3   Anderson      C0       C0       24   Santos       32123             RH   \n",
      "4   Anderson      C0       C0       24   Santos       32123             RH   \n",
      "..       ...     ...      ...      ...      ...         ...            ...   \n",
      "59  Fabricio      C7       C3       47  Atibaia       24894             PD   \n",
      "60  Fabricio      C7       C3       47  Atibaia       24894             PD   \n",
      "61  Fabricio      C7       C3       47  Atibaia       24894             PD   \n",
      "62  Fabricio      C7       C3       47  Atibaia       24894             PD   \n",
      "63  Fabricio      C7       C3       47  Atibaia       24894             PD   \n",
      "\n",
      "   Formação_x    nome_y chave_y chave1_y  idade_y   cidade_y  Registro_y  \\\n",
      "0   Graduação   Gabriel      C0       C0       23  Guarulhos       32948   \n",
      "1   Graduação   Janaina      C1       C0       56  Guarulhos       13480   \n",
      "2   Graduação      Luiz      C2       C0       32    Atibaia       22884   \n",
      "3   Graduação    Marcos      C3       C0       22  Guarulhos       56821   \n",
      "4   Graduação     Nadja      C4       C1       36     Santos       65938   \n",
      "..        ...       ...     ...      ...      ...        ...         ...   \n",
      "59  Graduação    Marcos      C3       C0       22  Guarulhos       56821   \n",
      "60  Graduação     Nadja      C4       C1       36     Santos       65938   \n",
      "61  Graduação   Oswaldo      C5       C1       68  Guarulhos       12956   \n",
      "62  Graduação  Patricia      C6       C1       22  Guarulhos       75439   \n",
      "63  Graduação   Ricardo      C7       C1       38     Santos       45392   \n",
      "\n",
      "   Departamento_y Formação_y  \n",
      "0              PD    Técnico  \n",
      "1             ADM  Graduação  \n",
      "2              PD  Graduação  \n",
      "3             ADM  Graduação  \n",
      "4              PD   Mestrado  \n",
      "..            ...        ...  \n",
      "59            ADM  Graduação  \n",
      "60             PD   Mestrado  \n",
      "61             RH  Graduação  \n",
      "62            ADM   Mestrado  \n",
      "63             PD  Graduação  \n",
      "\n",
      "[64 rows x 16 columns]\n"
     ]
    }
   ],
   "source": [
    "# Produto cartesiano\n",
    "cartesian_product = pd.merge(df1, df2, how='cross')\n",
    "print(\"\\nProduto cartesiano:\\n\", cartesian_product)"
   ]
  },
  {
   "cell_type": "code",
   "execution_count": null,
   "id": "f6cea2ff-3ca0-498c-a242-62c11decc043",
   "metadata": {},
   "outputs": [],
   "source": []
  }
 ],
 "metadata": {
  "kernelspec": {
   "display_name": "Python 3 (ipykernel)",
   "language": "python",
   "name": "python3"
  },
  "language_info": {
   "codemirror_mode": {
    "name": "ipython",
    "version": 3
   },
   "file_extension": ".py",
   "mimetype": "text/x-python",
   "name": "python",
   "nbconvert_exporter": "python",
   "pygments_lexer": "ipython3",
   "version": "3.12.6"
  }
 },
 "nbformat": 4,
 "nbformat_minor": 5
}
